{
 "cells": [
  {
   "cell_type": "code",
   "execution_count": null,
   "metadata": {},
   "outputs": [],
   "source": [
    "# 애니메이션을 위해 꼭 실행시켜주세요.\n",
    "from IPython.display import IFrame    "
   ]
  },
  {
   "cell_type": "markdown",
   "metadata": {},
   "source": [
    "# 재귀 함수(recursive function)\n",
    "\n",
    "재귀 함수는 함수 내부에서 자기 자신을 호출 하는 함수를 뜻한다."
   ]
  },
  {
   "cell_type": "markdown",
   "metadata": {},
   "source": [
    "## 실습 문제 - 팩토리얼 계산\n",
    "\n",
    "> `팩토리얼(factorial)`을 계산하는 함수 `fact(n)`를 작성해봅시다. \n",
    ">\n",
    "> n은 1보다 큰 정수라고 가정하고, 팩토리얼을 계산한 값을 반환합니다.\n",
    "\n",
    "$$\n",
    "\\displaystyle n! = \\prod_{ k = 1 }^{ n }{ k }\n",
    "$$\n",
    "\n",
    "$$\n",
    "\\displaystyle n! = 1*2*3*...*(n-1)*n\n",
    "$$\n",
    "\n",
    "---\n",
    "```\n",
    "예시 출력)\n",
    "120\n",
    "```"
   ]
  },
  {
   "cell_type": "code",
   "execution_count": null,
   "metadata": {},
   "outputs": [],
   "source": [
    "# 아래에 코드를 작성해주세요.\n",
    "# 1\n",
    "def fact(n):\n",
    "    if n == 1:\n",
    "        return n\n",
    "    if n > 1:\n",
    "        return fact(n - 1) * n\n",
    "\n",
    "print(fact(6))\n",
    "\n",
    "\n",
    "# 2\n",
    "def fact_2(n):\n",
    "    while n > 1:\n",
    "        result = result * n\n",
    "        n -= 1\n",
    "    return result\n",
    "\n",
    "print(fact_2(6))\n",
    "\n",
    "\n",
    "# 3\n",
    "def fact_3(n):\n",
    "    for "
   ]
  },
  {
   "cell_type": "code",
   "execution_count": null,
   "metadata": {},
   "outputs": [],
   "source": [
    "# 아래의 코드를 통해 fact(5) 함수를 호출해주세요.\n",
    "fact(5)"
   ]
  },
  {
   "cell_type": "markdown",
   "metadata": {},
   "source": [
    "## 예제 문제 - 재귀를 이용한 팩토리얼 계산\n",
    "\n",
    "```\n",
    "1! = 1\n",
    "2! = 1 * 2 = 1! * 2\n",
    "3! = 1 * 2 * 3 = 2! * 3\n",
    "```"
   ]
  },
  {
   "cell_type": "code",
   "execution_count": null,
   "metadata": {},
   "outputs": [],
   "source": [
    "# 아래에 재귀함수를 이용한 팩토리얼 계산을 해봅시다.\n",
    "def factorial(n):\n",
    "    return n * factorial(n - 1)\n",
    "\n",
    "def factorial(n):\n",
    "    if n == 1:   # 조건을 달아주는 이유는 1인 경우 0이 돼서 0이 나올 수 있기 때문에.\n",
    "        return n\n",
    "    else:\n",
    "        return n * factorial(n - 1)    # 이 부분이 재귀."
   ]
  },
  {
   "cell_type": "code",
   "execution_count": null,
   "metadata": {},
   "outputs": [],
   "source": [
    "# 아래의 코드를 통해 factorial(5) 함수를 호출해주세요.\n",
    "factorial(0)"
   ]
  },
  {
   "cell_type": "code",
   "execution_count": null,
   "metadata": {
    "scrolled": true
   },
   "outputs": [],
   "source": [
    "# 실행 오류 뜨면 제일 상단에 import를 반드시 해주세요.\n",
    "IFrame(\"https://goo.gl/8Cmw2X\", width='100%', height='500px')"
   ]
  },
  {
   "cell_type": "markdown",
   "metadata": {},
   "source": [
    "* 재귀 함수는 기본적으로 같은 문제이지만 점점 범위가 줄어드는 문제를 풀게 된다.\n",
    "\n",
    "* 재귀함수를 작성시에는 반드시, `base case`가 존재하여야 한다. \n",
    "\n",
    "* `base case`는 점점 범위가 줄어들어 반복되지 않는 최종적으로 도달하는 곳이다. \n",
    "\n",
    "재귀를 이용한 팩토리얼 계산에서의 base case는 n이 1일때, 함수가 아닌 정수 반환하는 것이다."
   ]
  },
  {
   "cell_type": "markdown",
   "metadata": {},
   "source": [
    "* 자기 자신을 호출하는 재귀함수는 알고리즘 구현시 많이 사용된다.\n",
    "* 코드가 더 직관적이고 이해하기 쉬운 경우가 있음. (하지만, 만들기는 어려움)\n",
    "* [Python Tutor](https://goo.gl/k1hQYz)에 보면, 함수가 호출될 때마다 메모리 공간에 쌓이는 것을 볼 수 있다. \n",
    "* 이 경우, 메모리 스택이 넘치거나(Stack overflow) 프로그램 실행 속도가 늘어지는 단점이 생긴다.\n",
    "* 파이썬에서는 이를 방지하기 위해 1,000번이 넘어가게 되면 더이상 함수를 호출하지 않고, 종료된다."
   ]
  },
  {
   "cell_type": "code",
   "execution_count": null,
   "metadata": {},
   "outputs": [],
   "source": [
    "# 여기에서 오류를 확인해보자!"
   ]
  },
  {
   "cell_type": "markdown",
   "metadata": {},
   "source": [
    "## 실습문제 - 피보나치 수열\n",
    "\n",
    "> 피보나치 수열은 다음과 같은 점화식이 있다. \n",
    ">\n",
    "> 피보나치 값을 리턴하는 두가지 방식의 코드를 모두 작성해보자.\n",
    "\n",
    "$$\n",
    "\\displaystyle F_0 = F_1 = 1\n",
    "$$\n",
    "\n",
    "$$\n",
    "F_n=F_{n-1}+F_{n-2}\\qquad(n\\in\\{2,3,4,\\dots\\})\n",
    "$$\n",
    "\n",
    "1) `fib(n)` : 재귀함수\n",
    "\n",
    "2) `fib_loop(n)` : 반복문 활용한 함수\n",
    "\n",
    "---\n",
    "```\n",
    "예시 입력)\n",
    "fib(10)\n",
    "\n",
    "예시 호출)\n",
    "89\n",
    "```"
   ]
  },
  {
   "cell_type": "code",
   "execution_count": null,
   "metadata": {},
   "outputs": [],
   "source": [
    "# 아래에 재귀를 이용한 코드를 작성해주세요.\n",
    "# 피보나치 수열\n",
    "# [1, 1, 2, 3, 5, 8, 13 ...] \n",
    "def fib(n):\n",
    "    if n in (0, 1):\n",
    "        return 1\n",
    "    elif n > 1:\n",
    "        return fib(n - 2) + fib(n - 1)\n",
    "\n",
    "fib(5)\n",
    "fib(8)\n",
    "\n",
    "\n",
    "# 1 => n1 1 + 1 = 2 fib_loop(1)\n",
    "# 2 => n2 1 + 2 = 3 fib_loop(1) + 1\n",
    "# 3 => n3 3 + 2 = 5 fib_loop(1) + fib_loop(2)\n",
    "# 5 => n4 5 + 3 = 8 fib_loop(1) + fib_loop(2) + fib_loop(3)\n",
    "# 8 => n5 5 + 8 = 13 fib_loop(3) + fib_loop(5)"
   ]
  },
  {
   "cell_type": "code",
   "execution_count": null,
   "metadata": {},
   "outputs": [],
   "source": [
    "# 아래의 코드를 통해 fib 함수를 호출해주세요.\n",
    "fib(10)"
   ]
  },
  {
   "cell_type": "code",
   "execution_count": null,
   "metadata": {},
   "outputs": [],
   "source": [
    "# 아래에 반복문을 이용한 코드를 작성해주세요.\n",
    "def fib_loop(n):\n",
    "    if n in (0, 1):\n",
    "        return 1\n",
    "    elif n > 1:\n",
    "        return fib_loop(n - 1) + fib_loop(n - 2)\n",
    "\n",
    "print(fib_loop(8))"
   ]
  },
  {
   "cell_type": "code",
   "execution_count": null,
   "metadata": {},
   "outputs": [],
   "source": [
    "# 아래의 코드를 통해 fib_loop(5) 함수를 호출해주세요.\n",
    "fib_loop(10)"
   ]
  },
  {
   "cell_type": "markdown",
   "metadata": {},
   "source": [
    "## 반복문과 재귀 함수의 차이"
   ]
  },
  {
   "cell_type": "code",
   "execution_count": null,
   "metadata": {},
   "outputs": [],
   "source": [
    "# 큰 숫자를 재귀로 짜여진 fib()함수의 인자로 넘겨보세요.\n",
    "fib(33)"
   ]
  },
  {
   "cell_type": "code",
   "execution_count": null,
   "metadata": {
    "scrolled": false
   },
   "outputs": [],
   "source": [
    "# 100배 되는 숫자를 반복문으로 짜여진 fib_loop()인자로 넘겨보세요.\n",
    "fib_loop(3300)"
   ]
  },
  {
   "cell_type": "code",
   "execution_count": null,
   "metadata": {},
   "outputs": [],
   "source": [
    "# 실행 오류 뜨면 제일 상단에 import를 반드시 해주세요.\n",
    "IFrame('https://goo.gl/JZ7s15', width='100%', height='300px')"
   ]
  },
  {
   "cell_type": "markdown",
   "metadata": {},
   "source": [
    "## 실습문제 - 치킨 쿠폰\n",
    "> 치킨 쿠폰 3장을 모으면 1마리를 줍니다. 한 마리를 시키면 쿠폰 1장을 줍니다. n장이 있을 때, 먹을 수 있는 치킨은?\n",
    "\n",
    "> ex) 10장 => 7장 + 1장 => 5장 + 1장 => 3장 + 1장 => 1장 + 1장 "
   ]
  },
  {
   "cell_type": "code",
   "execution_count": 2,
   "metadata": {},
   "outputs": [
    {
     "data": {
      "text/plain": [
       "4"
      ]
     },
     "execution_count": 2,
     "metadata": {},
     "output_type": "execute_result"
    }
   ],
   "source": [
    "# 1\n",
    "def chicken(coupons):\n",
    "    free_chicken = 0\n",
    "    if coupons >= 3:\n",
    "        coupons = coupons - 2\n",
    "        free_chicken += 1\n",
    "        return chicken(coupons) + free_chicken\n",
    "    else:\n",
    "        return 0\n",
    "\n",
    "chicken(100)\n",
    "\n",
    "\n",
    "# 2\n",
    "def chicken_2(coupons, free):\n",
    "    free_chicken = 0\n",
    "    if coupons >= free:\n",
    "        coupons = coupons - (free - 1)\n",
    "        free_chicken += 1\n",
    "        return chicken_2(coupons, free) + free_chicken\n",
    "    else:\n",
    "        return 0\n",
    "\n",
    "chicken_2(100, 4)\n",
    "\n",
    "\n",
    "# 3\n",
    "def free_chicken(coupon, N, chicken = 0):\n",
    "    \n",
    "    if coupon < N:\n",
    "        return chicken\n",
    "    else:\n",
    "        coupon -= 3\n",
    "        chicken += 1\n",
    "        coupon += 1\n",
    "        return free_chicken(coupon, N, chicken)\n",
    "        \n",
    "free_chicken(10, 3)"
   ]
  },
  {
   "cell_type": "markdown",
   "metadata": {},
   "source": [
    "## 실습문제 - 개미수열(Look & Say)\n",
    "> 숫자를 세어서 몇 개인지 말해요.\n",
    "> \n",
    "```\n",
    "n = 1\n",
    "[1]\n",
    "n = 2\n",
    "[1, 1]\n",
    "n = 3\n",
    "[1, 2]\n",
    "n = 4\n",
    "[1, 1, 2, 1]\n",
    "n = 5\n",
    "[1, 2, 2, 1, 1, 1]\n",
    "n = 6\n",
    "[1, 1, 2, 2, 1, 3]\n",
    "```"
   ]
  },
  {
   "cell_type": "code",
   "execution_count": 33,
   "metadata": {
    "scrolled": true
   },
   "outputs": [
    {
     "data": {
      "text/plain": [
       "[1, 2, 2, 1, 1, 1]"
      ]
     },
     "execution_count": 33,
     "metadata": {},
     "output_type": "execute_result"
    }
   ],
   "source": [
    "def look_and_say(nth_num):\n",
    "\n",
    "    i = 0\n",
    "    \n",
    "    while i < nth_num:\n",
    "\n",
    "        if i == 0:\n",
    "\n",
    "            series = [1]\n",
    "\n",
    "        else:\n",
    "\n",
    "            count = 1\n",
    "\n",
    "            sequence = []\n",
    "\n",
    "            for start_num in range(1, len(series)):\n",
    "\n",
    "                if series[start_num] == series[start_num - 1]:\n",
    "\n",
    "                    count += 1\n",
    "\n",
    "                else:\n",
    "                    \n",
    "                    sequence += [series[start_num - 1], count]\n",
    "\n",
    "                    count = 1\n",
    "\n",
    "            sequence += [series[len(series) - 1], count]\n",
    "\n",
    "            series = sequence\n",
    "\n",
    "        i += 1\n",
    "\n",
    "    return series\n",
    "        \n",
    "        \n",
    "look_and_say(5)"
   ]
  },
  {
   "cell_type": "code",
   "execution_count": 39,
   "metadata": {},
   "outputs": [
    {
     "data": {
      "text/plain": [
       "[1, 2, 2, 2, 1, 1, 3, 1]"
      ]
     },
     "execution_count": 39,
     "metadata": {},
     "output_type": "execute_result"
    }
   ],
   "source": [
    "def look_and_say(n, start=[1], end=[]):\n",
    "    \n",
    "    if n == 0:\n",
    "        return start\n",
    "    \n",
    "    look = start[0]\n",
    "    say = 0\n",
    "    \n",
    "    for index, number in enumerate(start):\n",
    "        \n",
    "        # 보던 애가 계속 나오면\n",
    "        if number == look:    \n",
    "            say += 1\n",
    "            \n",
    "        # 못 보던 애가 나온다\n",
    "        else:    \n",
    "            # start 앞을 버린다\n",
    "            del(start[0:index]) \n",
    "            break\n",
    "            \n",
    "    else: \n",
    "        start = []\n",
    "    \n",
    "    # end 뒤에 look과 say를 붙인다\n",
    "    end = end + [look, say]   \n",
    "\n",
    "    \n",
    "    # start가 비어있다면,\n",
    "    if not start:\n",
    "        return look_and_say(n-1, end, [])  \n",
    "    \n",
    "    # start가 남아있다면,\n",
    "    else:\n",
    "        return look_and_say(n, start, end)       \n",
    "   \n",
    "    \n",
    "look_and_say(6)"
   ]
  },
  {
   "cell_type": "markdown",
   "metadata": {},
   "source": [
    "## 실습문제 - 하노이의 탑\n",
    "\n",
    "> 다음은 하노이의 탑이다. \n",
    ">\n",
    "> 하노이의 탑을 풀이하는 해법(한쪽 탑의 원판을 다른 탑으로 모두 옮기는 법을 출력하는 함수를 만드세요.\n",
    "\n",
    "<br>\n",
    "<br>\n",
    "<center>\n",
    "    <img src=\"./images/04/hanoi.gif\", alt=\"\">\n",
    "</center>\n",
    "\n",
    "1. 한 번에 한개의 층만을 다른 기둥으로 옮길 수 있다\n",
    "2. 옮기려는 기둥에는 아무것도 없거나 옮기려는 층보다 큰 층이 있을 경우에만 옮길 수 있다\n",
    "3. 옮기려는 기둥에 옮기려는 층보다 작은 층이 이미 있을 경우 그 기둥으로 옮길 수 없다.\n",
    "4. 가능한 적은 회수로 전체 탑을 다른 기둥으로 옮긴다."
   ]
  },
  {
   "cell_type": "code",
   "execution_count": null,
   "metadata": {},
   "outputs": [],
   "source": [
    "# 아래에 코드를 작성해주세요."
   ]
  }
 ],
 "metadata": {
  "kernelspec": {
   "display_name": "Python 3",
   "language": "python",
   "name": "python3"
  },
  "language_info": {
   "codemirror_mode": {
    "name": "ipython",
    "version": 3
   },
   "file_extension": ".py",
   "mimetype": "text/x-python",
   "name": "python",
   "nbconvert_exporter": "python",
   "pygments_lexer": "ipython3",
   "version": "3.6.7"
  },
  "latex_envs": {
   "LaTeX_envs_menu_present": true,
   "autoclose": false,
   "autocomplete": true,
   "bibliofile": "biblio.bib",
   "cite_by": "apalike",
   "current_citInitial": 1,
   "eqLabelWithNumbers": true,
   "eqNumInitial": 1,
   "hotkeys": {
    "equation": "Ctrl-E",
    "itemize": "Ctrl-I"
   },
   "labels_anchors": false,
   "latex_user_defs": false,
   "report_style_numbering": false,
   "user_envs_cfg": false
  },
  "toc": {
   "base_numbering": 1,
   "nav_menu": {},
   "number_sections": true,
   "sideBar": true,
   "skip_h1_title": false,
   "title_cell": "Table of Contents",
   "title_sidebar": "Contents",
   "toc_cell": false,
   "toc_position": {},
   "toc_section_display": true,
   "toc_window_display": false
  }
 },
 "nbformat": 4,
 "nbformat_minor": 2
}

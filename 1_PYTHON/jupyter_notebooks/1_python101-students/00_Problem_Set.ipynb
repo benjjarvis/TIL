{
 "cells": [
  {
   "cell_type": "markdown",
   "metadata": {},
   "source": [
    "# Problem Set"
   ]
  },
  {
   "cell_type": "markdown",
   "metadata": {},
   "source": [
    "**190108**"
   ]
  },
  {
   "cell_type": "markdown",
   "metadata": {},
   "source": [
    "## 1. 이상한 덧셈\n",
    "> 숫자로 구성된 리스트에서 양의 정수의 합을 구하는 함수, `positive_sum`을 만들어라\n",
    "\n",
    "> 예시) \n",
    "```python\n",
    "positive_sum([1, -10, 2]) # 3\n",
    "positive_sum([-1, -2, -3, -4]) # 0\n",
    "```"
   ]
  },
  {
   "cell_type": "code",
   "execution_count": 1,
   "metadata": {},
   "outputs": [
    {
     "data": {
      "text/plain": [
       "1"
      ]
     },
     "execution_count": 1,
     "metadata": {},
     "output_type": "execute_result"
    }
   ],
   "source": [
    "# 1\n",
    "def positive_sum(num):\n",
    "    positives = []\n",
    "    for x in num:\n",
    "        if x > 0: \n",
    "            positives.append(x)\n",
    "    return sum(positives)\n",
    "    \n",
    "    \n",
    "positive_sum([1, -1, 2])\n",
    "positive_sum([-1, -2, -3, -4])\n",
    "positive_sum([0, 1, -6])\n",
    "\n",
    "\n",
    "# 2\n",
    "def positive_sum(num):\n",
    "    for x in num:\n",
    "        if x < 0:\n",
    "            num.remove(x)\n",
    "    return sum(num)\n",
    "    \n",
    "positive_sum([1, -1, 2])\n",
    "positive_sum([-1, -2, -3, -4])\n",
    "positive_sum([0, 1, -6])"
   ]
  },
  {
   "cell_type": "code",
   "execution_count": 2,
   "metadata": {},
   "outputs": [
    {
     "data": {
      "text/plain": [
       "1"
      ]
     },
     "execution_count": 2,
     "metadata": {},
     "output_type": "execute_result"
    }
   ],
   "source": [
    "# 선생님 답\n",
    "def positive_sum(num):\n",
    "    return sum(x for x in num if x > 0)\n",
    "\n",
    "positive_sum([1, -1, 2])\n",
    "positive_sum([-1, -2, -3, -4])\n",
    "positive_sum([0, 1, -6])"
   ]
  },
  {
   "cell_type": "markdown",
   "metadata": {},
   "source": [
    "## 2. 문자열 탐색\n",
    "> 문자열 요소로만 이뤄진 리스트를 넣었을 때, 문자열의 길이가 2 이상이고 주어진 문자열의 첫 번째와 마지막 문자가 같은 문자열의 수를 세는 함수를 만들어라\n",
    "\n",
    "> 예시)\n",
    "```python\n",
    "start_end(['level', 'asdwe', 's', 'abadsfa', 'q1q']) # 3\n",
    "```"
   ]
  },
  {
   "cell_type": "code",
   "execution_count": 3,
   "metadata": {},
   "outputs": [
    {
     "data": {
      "text/plain": [
       "2"
      ]
     },
     "execution_count": 3,
     "metadata": {},
     "output_type": "execute_result"
    }
   ],
   "source": [
    "def start_end(n):\n",
    "    same_letter = []\n",
    "    for x in n:\n",
    "        if len(x) >= 2 and x[0] == x[-1]:\n",
    "            same_letter.append(x)\n",
    "    return len(same_letter)\n",
    "\n",
    "        \n",
    "start_end(['level', 'asdwe', 's', 'abadsfa', 'q1q'])\n",
    "start_end(['asa', '0', 'as', 'bdb'])"
   ]
  },
  {
   "cell_type": "code",
   "execution_count": 4,
   "metadata": {},
   "outputs": [
    {
     "data": {
      "text/plain": [
       "2"
      ]
     },
     "execution_count": 4,
     "metadata": {},
     "output_type": "execute_result"
    }
   ],
   "source": [
    "# 선생님 답\n",
    "def start_end(words):\n",
    "    count = 0\n",
    "    for word in words:\n",
    "        if len(word) > 1 and word[0] == word[-1]:\n",
    "            count += 1\n",
    "    return count\n",
    "\n",
    "\n",
    "start_end(['level', 'asdwe', 's', 'abadsfa', 'q1q'])\n",
    "start_end(['asa', '0', 'as', 'bdb'])"
   ]
  },
  {
   "cell_type": "markdown",
   "metadata": {},
   "source": [
    "## 3. Collatz\n",
    "> Collatz 추측: 어떤 자연수든지 다음과 같은 작업을 반복하면 1로 만들 수 있다. \n",
    "1. n이 짝수라면 2로 나눈다. \n",
    "2. n이 홀수라면 3을 곱하고 1을 더한다.\n",
    "3. 결과로 나온 수에 1 / 2의 작업을 1이 될 때까지 반복한다.\n",
    "\n",
    "> n이 6이면, 6 -> 3 -> 5 -> 16 -> 8 -> 4 -> 2 -> 1이 되면 8번만에 1이 된다. 자연수 n이 들어왔을 때, 몇 번의 작업만에 1이 되는지 `return`하는 함수 `collatz()`를 완성하라. (단, 500번을 넘어가도 1이 되지 않는다면 -1을 `return`한다.)\n",
    "\n",
    "> 예시\n",
    "```python\n",
    "collatz(6) # 8\n",
    "collatz(16) # 4\n",
    "collatz(6263313) # -1\n",
    "```"
   ]
  },
  {
   "cell_type": "code",
   "execution_count": null,
   "metadata": {},
   "outputs": [
    {
     "name": "stdout",
     "output_type": "stream",
     "text": [
      "5\n",
      "8\n",
      "4\n",
      "110\n",
      "508\n"
     ]
    },
    {
     "data": {
      "text/plain": [
       "-1"
      ]
     },
     "execution_count": 5,
     "metadata": {},
     "output_type": "execute_result"
    }
   ],
   "source": [
    "# def collatz(num):\n",
    "        \n",
    "#         if num % 2 == 1:\n",
    "#             result = num * 3 + 1\n",
    "        \n",
    "#         elif num % 2 == 0:\n",
    "#             result = num / 2\n",
    "        \n",
    "#             if result > 1:\n",
    "#                 collatz(num)\n",
    "            \n",
    "#             elif result == 1:\n",
    "#                 print(1)\n",
    "\n",
    "#         return collatz(result)\n",
    "            \n",
    "# collatz(6)\n",
    "\n",
    "\n",
    "def collatz(num):\n",
    "        count = 0\n",
    "        while num != 1:\n",
    "            if num % 2 == 1:\n",
    "                num = num * 3 + 1\n",
    "                count += 1\n",
    "            elif num % 2 == 0:\n",
    "                num = num / 2\n",
    "                count += 1  \n",
    "        print(count)\n",
    "\n",
    "        if count >= 500:\n",
    "            return -1\n",
    "        else:\n",
    "            return count\n",
    "\n",
    "    \n",
    "collatz(5)\n",
    "collatz(6)\n",
    "collatz(16)\n",
    "collatz(501)\n",
    "collatz(626331)"
   ]
  },
  {
   "cell_type": "code",
   "execution_count": null,
   "metadata": {},
   "outputs": [
    {
     "data": {
      "text/plain": [
       "8"
      ]
     },
     "execution_count": 6,
     "metadata": {},
     "output_type": "execute_result"
    }
   ],
   "source": [
    "# 선생님 답\n",
    "def collatz(num):\n",
    "    for i in range(500):\n",
    "        if num % 2:\n",
    "            num = num * 3 + 1\n",
    "        else:\n",
    "            num = num / 2\n",
    "        \n",
    "        if num == 1:     # 여기 if는 위의 if에 걸림\n",
    "            return i + 1\n",
    " \n",
    "    return i - 1\n",
    "        \n",
    "    \n",
    "collatz(6)"
   ]
  },
  {
   "cell_type": "markdown",
   "metadata": {},
   "source": [
    "## 4. 솔로 천국\n",
    "> 리스트가 주어질 때, 리스트의 요소 e는 range(0, 10)에 포함되는 자연수다. 리스트에서 연속적으로 나타나는 숫자는 하나만 남기고 전부 제거하며, `return`하는 함수 `lonely()`를 작성하라. 이때 제거된 후 남은 수들을 반환할 때는 리스트의 요소들이 순서를 유지해야 한다.\n",
    "\n",
    "> 예시)\n",
    "```python\n",
    "lonely([1, 1, 3, 3, 0, 1, 1, 3, 0, 3])  # [1, 3, 0]\n",
    "lonely([4, 4, 3, 3, 3, 4])  # [4, 3]\n",
    "{'key1': 'value1', 'key2': 'value2'}\n",
    "```"
   ]
  },
  {
   "cell_type": "code",
   "execution_count": null,
   "metadata": {},
   "outputs": [
    {
     "data": {
      "text/plain": [
       "[4, 1, 3]"
      ]
     },
     "execution_count": 7,
     "metadata": {},
     "output_type": "execute_result"
    }
   ],
   "source": [
    "def lonely(natural_numbers):\n",
    "    result = []\n",
    "    for x in natural_numbers:\n",
    "        if x not in result:\n",
    "            result = result + [x]        \n",
    "    return result\n",
    "\n",
    "lonely([4, 4, 4, 1, 1, 3, 3, 1])\n",
    "\n",
    "\n",
    "\n",
    "def lonely(natural_numbers):\n",
    "    result = []\n",
    "    for x in natural_numbers:\n",
    "        if x not in result:\n",
    "            result.append(x)     \n",
    "    return result\n",
    "\n",
    "\n",
    "lonely([4, 4, 4, 1, 1, 3, 3, 1])"
   ]
  },
  {
   "cell_type": "code",
   "execution_count": null,
   "metadata": {},
   "outputs": [
    {
     "data": {
      "text/plain": [
       "[4, 1, 3]"
      ]
     },
     "execution_count": 8,
     "metadata": {},
     "output_type": "execute_result"
    }
   ],
   "source": [
    "# 선생님 답\n",
    "def lonely(numbers):\n",
    "    result = []\n",
    "    for number in numbers:\n",
    "        if not result:             # result가 비어 있는가?\n",
    "            result.append(number)\n",
    "        elif result[-1] != number: # result의 마지막 숫자가 리스트와 같은 지, 다른 지 확인하는 작업\n",
    "            if result.count(number) == 0:  # result에 담긴 해당 숫자의 개수가 0이면(없다면), \n",
    "                result.append(number)\n",
    "    return result      \n",
    "        \n",
    "    \n",
    "lonely([4, 4, 4, 1, 1, 3, 3, 1])"
   ]
  },
  {
   "cell_type": "code",
   "execution_count": null,
   "metadata": {},
   "outputs": [
    {
     "data": {
      "text/plain": [
       "[4, 1, 3]"
      ]
     },
     "execution_count": 9,
     "metadata": {},
     "output_type": "execute_result"
    }
   ],
   "source": [
    "# 선생님 답2\n",
    "def lonely(numbers):\n",
    "    result = []\n",
    "    for number in numbers:\n",
    "        if number not in result:         \n",
    "            result.append(number)\n",
    "    return result   \n",
    "                          \n",
    "\n",
    "lonely([4, 4, 4, 1, 1, 3, 3, 1])                      "
   ]
  },
  {
   "cell_type": "markdown",
   "metadata": {},
   "source": [
    "## 5. 홀수개를 찾아라\n",
    "> 입력으로 list가 한 개 들어온다. 이 list에는 1개의 숫자만 홀수개 들어있다. 이 1개의 홀수개인 숫자를 `return`하는 `find_odd()`를 작성하세요.\n",
    "\n",
    "> 예시)\n",
    "```python\n",
    "find_odd([1, 1, 2, 2, 3, 3, 3])  # 3\n",
    "find_odd([2, 1, 2])  # 1\n",
    "find_odd([1, 2, 2, 3, 2, 2, 1])  # 3\n",
    "find_odd([1, 2, 1])  # 2\n",
    "```"
   ]
  },
  {
   "cell_type": "code",
   "execution_count": null,
   "metadata": {},
   "outputs": [
    {
     "data": {
      "text/plain": [
       "5"
      ]
     },
     "execution_count": 10,
     "metadata": {},
     "output_type": "execute_result"
    }
   ],
   "source": [
    "def find_odd(num):\n",
    "    fin = []\n",
    "    for x in num:\n",
    "        if num.count(x) % 2:\n",
    "            fin.append(x)           \n",
    "    return fin[0]\n",
    "\n",
    "\n",
    "find_odd([1, 2, 1])\n",
    "find_odd([1, 1, 2, 2, 3, 3, 3])\n",
    "find_odd([2, 1, 2])\n",
    "find_odd([1, 2, 2, 3, 2, 2, 1])\n",
    "find_odd([0, 10, 10, 5, 0])"
   ]
  },
  {
   "cell_type": "code",
   "execution_count": null,
   "metadata": {},
   "outputs": [
    {
     "data": {
      "text/plain": [
       "5"
      ]
     },
     "execution_count": 11,
     "metadata": {},
     "output_type": "execute_result"
    }
   ],
   "source": [
    "# 선생님 답\n",
    "def find_odd(num):\n",
    "    result = 0\n",
    "    for n in num:\n",
    "        result = result ^ n\n",
    "    return result\n",
    "\n",
    "\n",
    "find_odd([1, 2, 1])\n",
    "find_odd([1, 1, 2, 2, 3, 3, 3])\n",
    "find_odd([2, 1, 2])\n",
    "find_odd([1, 2, 2, 3, 2, 2, 1])\n",
    "find_odd([0, 10, 10, 5, 0])\n",
    "\n",
    "\n",
    "# ^(carrot)이 비트연산이라고 함(xor과 같은 기능)"
   ]
  },
  {
   "cell_type": "code",
   "execution_count": null,
   "metadata": {},
   "outputs": [
    {
     "name": "stdout",
     "output_type": "stream",
     "text": [
      "True\n",
      "True\n"
     ]
    }
   ],
   "source": [
    "def palindrome(word):\n",
    "    \n",
    "    compare = []\n",
    "    rev_compare = []\n",
    "    \n",
    "    \" \".join(word)\n",
    "    word.split(\" \")\n",
    "    \n",
    "    if len(word) % 2:\n",
    "        for x in word:\n",
    "            compare.append(x) \n",
    "            rev_compare.append(x)\n",
    "            rev_compare.reverse()\n",
    "            if compare == rev_compare:\n",
    "                return True\n",
    "            \n",
    "    else:\n",
    "        return False\n",
    "    \n",
    "print(palindrome('abdca'))\n",
    "print(palindrome('아자차카타파하'))"
   ]
  },
  {
   "cell_type": "code",
   "execution_count": null,
   "metadata": {},
   "outputs": [
    {
     "name": "stdout",
     "output_type": "stream",
     "text": [
      "False\n",
      "False\n",
      "False\n",
      "True\n"
     ]
    }
   ],
   "source": [
    "\n",
    "## 기본\n",
    "def p(word):\n",
    "\tcompare = []\n",
    "\trev_compare = []\n",
    "\t\n",
    "\tword.upper()\n",
    "\tlistify = list(word)\n",
    "\n",
    "\tfor x in listify:\n",
    "\t\tcompare.append(x)\n",
    "\t\trev_compare.append(x)\n",
    "\n",
    "\trev_compare.reverse()\n",
    "\tif compare == rev_compare:\n",
    "\t\treturn True\n",
    "\telse:\n",
    "\t\treturn False\n",
    "\n",
    "print(p('abcda'))\n",
    "print(p('a santa at NASA'))\n",
    "\n",
    "\n",
    "\n",
    "## 대/소문자, 공백 \n",
    "def p(words):\n",
    "\tcompare = []\n",
    "\trev_compare = []\n",
    "\n",
    "\twords = ' '.join(words).upper().split()\n",
    "\n",
    "\tfor x in words:\n",
    "\t\tcompare.append(x)\n",
    "\t\trev_compare.append(x)\n",
    "\trev_compare.reverse()\n",
    "\tif compare == rev_compare:\n",
    "\t\treturn True\n",
    "\telse:\n",
    "\t\treturn False\n",
    "\n",
    "print(p('abcda'))\n",
    "print(p('a santa at NASA'))"
   ]
  },
  {
   "cell_type": "markdown",
   "metadata": {},
   "source": [
    "**190109**"
   ]
  },
  {
   "cell_type": "markdown",
   "metadata": {},
   "source": [
    "## 1. Up & Down\n",
    "> `range(1, 101)` 사이의 숫자를 사용자가 생각한다. 컴퓨터가 중간에 위치한 숫자를 물어보고 그 숫자가 생각한 수보다 크면 1, 작으면 -1, 맞으면 0을 입력한다. 이때 몇 번만에 컴퓨터가 사용자가 생각한 숫자를 맞추는 코드를 만들어라. (멈추는 값은 항상 0)\n",
    "\n",
    "> 예시)\n",
    "```sh\n",
    "50\n",
    "> -1\n",
    "25\n",
    "> -1\n",
    "13\n",
    "> -1\n",
    "7\n",
    "> 1\n",
    "10 \n",
    "> 1\n",
    "12\n",
    "> 0\n",
    "6번만에 맞췄습니다!\n",
    "```\n",
    "\n",
    "```python\n",
    "def guess_up_down():\n",
    "    count = 0\n",
    "    print('숫자를 생각하세요')\n",
    "    n = 100 // 2\n",
    "    print(n)\n",
    "    count += 1\n",
    "    user_feedback = input('작으면 -1, 맞으면 0, 크면 1: ')\n",
    "    ...\n",
    "    print(f'{count}번만에 맞췄습니다')\n",
    "  \n",
    "guess_up_down()\n",
    "```"
   ]
  },
  {
   "cell_type": "code",
   "execution_count": null,
   "metadata": {},
   "outputs": [
    {
     "name": "stdout",
     "output_type": "stream",
     "text": [
      "숫자를 생각하세요.\n",
      "작으면 -1, 맞으면 0, 크면 1: 1\n",
      "작으면 -1, 맞으면 0, 크면 1: 1\n",
      "50\n",
      "작으면 -1, 맞으면 0, 크면 1: 1\n",
      "50\n",
      "작으면 -1, 맞으면 0, 크면 1: 1\n",
      "50\n"
     ]
    }
   ],
   "source": [
    "def guess_up_down():\n",
    "    \n",
    "    count = 1\n",
    "    print('숫자를 생각하세요.')\n",
    "    \n",
    "    user_feedback = int(input('작으면 -1, 맞으면 0, 크면 1: '))\n",
    "    min_num, max_num = 0, 100\n",
    "    num = (min_num + max_num) // 2\n",
    "    \n",
    "    while user_feedback != 0:\n",
    "        \n",
    "        if user_feedback < 0:\n",
    "            max_num = (min_num + max_num) // 2\n",
    "            user_feedback = int(input('작으면 -1, 맞으면 0, 크면 1: '))\n",
    "            count += 1   \n",
    "            print(num)\n",
    "            \n",
    "        elif user_feedback > 0:\n",
    "            min_num = (min_num + max_num) // 2\n",
    "            user_feedback = int(input('작으면 -1, 맞으면 0, 크면 1: '))\n",
    "            count += 1   \n",
    "            print(num)\n",
    "            \n",
    "        \n",
    "    print(f'{count}번만에 맞췄습니다')\n",
    "\n",
    "\n",
    "guess_up_down()"
   ]
  },
  {
   "cell_type": "code",
   "execution_count": null,
   "metadata": {},
   "outputs": [],
   "source": [
    "def guess_up_down():\n",
    "    \n",
    "    count = 0\n",
    "    max_num, min_num = 100, 0\n",
    "    print('숫자를 생각하세요')\n",
    "    \n",
    "    while 1:\n",
    "        guess = (max_num + min_num) // 2\n",
    "        print(guess)\n",
    "        count += 1\n",
    "        feedback = int(input('작으면 -1, 맞으면 0, 크면 1: '))\n",
    "        \n",
    "        if feedback == -1:\n",
    "            max_num = guess\n",
    "        elif feedback == 1:\n",
    "            min_num = guess\n",
    "        else:\n",
    "            return count\n",
    "        \n",
    "guess_up_down()"
   ]
  },
  {
   "cell_type": "markdown",
   "metadata": {},
   "source": [
    "## 2. Binary\n",
    "> 양의 정수 x를 입력 받아 제곱근의 근사값의 결과를 반환하는 함수를 작성하라. 단, sqrt()는 사용할 수 없다. "
   ]
  },
  {
   "cell_type": "code",
   "execution_count": null,
   "metadata": {},
   "outputs": [],
   "source": [
    "# 1\n",
    "user_n = float(input('제곱근을 알고 싶은 숫자를 넣어주세요: '))\n",
    "\n",
    "min_n = user_n - 1\n",
    "max_n = user_n\n",
    "\n",
    "while 1:\n",
    "    \n",
    "    guess = (min_n + max_n) / 2 \n",
    "    min_n ** 2 < guess < max_n ** 2\n",
    "    \n",
    "    if guess ** 2 < user_n:\n",
    "        max_n = guess\n",
    "        \n",
    "    elif guess ** 2 > user_n:\n",
    "        min_n = guess\n",
    "        \n",
    "\n",
    "print()"
   ]
  },
  {
   "cell_type": "code",
   "execution_count": null,
   "metadata": {},
   "outputs": [],
   "source": [
    "# 2\n",
    "def root(sample_num, c = 6):\n",
    "    count = 1\n",
    "    min_n = sample_num - 0.1\n",
    "    while count != (c + 1):\n",
    "        if min_n ** 2 > sample_num:\n",
    "            min_n = min_n - 0.1 ** (count)\n",
    "        elif min_n ** 2 < sample_num:\n",
    "            min_n = min_n + 0.1 ** (count)\n",
    "            count += 1\n",
    "        else:\n",
    "            return min_n\n",
    "    return round(min_n, c)\n",
    "\n",
    "print(root(2,10))"
   ]
  },
  {
   "cell_type": "code",
   "execution_count": null,
   "metadata": {},
   "outputs": [],
   "source": [
    "# 선생님 답\n",
    "def my_sqrt(n):\n",
    "    \n",
    "    while 1:\n",
    "        if min_n ** 2 < n < max_n ** 2:\n",
    "            guess = (min_n * max_n) / 2\n",
    "            \n",
    "            if round(min_n, 5) == round(max_n, 5):\n",
    "                return round(guess, 5) \n",
    "            elif guess ** 2 > n:\n",
    "                max_n = guess\n",
    "            else:\n",
    "                min_n = guess\n",
    "                \n",
    "my_sqrt(2)"
   ]
  },
  {
   "cell_type": "code",
   "execution_count": null,
   "metadata": {},
   "outputs": [],
   "source": [
    "# 선생님 답\n",
    "def my_sqrt(n):\n",
    "    min_n, max_n = 0, 1\n",
    "    \n",
    "    while 1:\n",
    "        if n == max_n ** 2:\n",
    "            return max_n\n",
    "        elif min_n ** 2 < n < max_n ** 2:    \n",
    "            guess = (min_n * max_n) / 2\n",
    "            \n",
    "            if round(min_n, 5) == round(max_n, 5):\n",
    "                return round(guess, 5) \n",
    "            elif guess ** 2 > n:\n",
    "                max_n = guess\n",
    "            else:\n",
    "                min_n = guess\n",
    "        else:\n",
    "            min_n += 1\n",
    "            max_n += 1\n",
    "                \n",
    "my_sqrt(2)"
   ]
  }
 ],
 "metadata": {
  "kernelspec": {
   "display_name": "Python 3",
   "language": "python",
   "name": "python3"
  },
  "language_info": {
   "codemirror_mode": {
    "name": "ipython",
    "version": 3
   },
   "file_extension": ".py",
   "mimetype": "text/x-python",
   "name": "python",
   "nbconvert_exporter": "python",
   "pygments_lexer": "ipython3",
   "version": "3.6.7"
  }
 },
 "nbformat": 4,
 "nbformat_minor": 2
}

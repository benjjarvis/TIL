{
 "cells": [
  {
   "cell_type": "markdown",
   "metadata": {},
   "source": [
    "# Problem Set"
   ]
  },
  {
   "cell_type": "markdown",
   "metadata": {},
   "source": [
    "**190108**"
   ]
  },
  {
   "cell_type": "markdown",
   "metadata": {},
   "source": [
    "## 1. 이상한 덧셈\n",
    "> 숫자로 구성된 리스트에서 양의 정수의 합을 구하는 함수, `positive_sum`을 만들어라\n",
    "\n",
    "> 예시) \n",
    "```python\n",
    "positive_sum([1, -10, 2]) # 3\n",
    "positive_sum([-1, -2, -3, -4]) # 0\n",
    "```"
   ]
  },
  {
   "cell_type": "code",
   "execution_count": null,
   "metadata": {},
   "outputs": [],
   "source": [
    "# 1\n",
    "def positive_sum(num):\n",
    "    positives = []\n",
    "    for x in num:\n",
    "        if x > 0: \n",
    "            positives.append(x)\n",
    "    return sum(positives)\n",
    "    \n",
    "    \n",
    "positive_sum([1, -1, 2])\n",
    "positive_sum([-1, -2, -3, -4])\n",
    "positive_sum([0, 1, -6])\n",
    "\n",
    "\n",
    "# 2\n",
    "def positive_sum(num):\n",
    "    for x in num:\n",
    "        if x < 0:\n",
    "            num.remove(x)\n",
    "    return sum(num)\n",
    "    \n",
    "positive_sum([1, -1, 2])\n",
    "positive_sum([-1, -2, -3, -4])\n",
    "positive_sum([0, 1, -6])"
   ]
  },
  {
   "cell_type": "code",
   "execution_count": null,
   "metadata": {},
   "outputs": [],
   "source": [
    "# 선생님 답\n",
    "def positive_sum(num):\n",
    "    return sum(x for x in num if x > 0)\n",
    "\n",
    "positive_sum([1, -1, 2])\n",
    "positive_sum([-1, -2, -3, -4])\n",
    "positive_sum([0, 1, -6])"
   ]
  },
  {
   "cell_type": "markdown",
   "metadata": {},
   "source": [
    "## 2. 문자열 탐색\n",
    "> 문자열 요소로만 이뤄진 리스트를 넣었을 때, 문자열의 길이가 2 이상이고 주어진 문자열의 첫 번째와 마지막 문자가 같은 문자열의 수를 세는 함수를 만들어라\n",
    "\n",
    "> 예시)\n",
    "```python\n",
    "start_end(['level', 'asdwe', 's', 'abadsfa', 'q1q']) # 3\n",
    "```"
   ]
  },
  {
   "cell_type": "code",
   "execution_count": null,
   "metadata": {},
   "outputs": [],
   "source": [
    "def start_end(n):\n",
    "    same_letter = []\n",
    "    for x in n:\n",
    "        if len(x) >= 2 and x[0] == x[-1]:\n",
    "            same_letter.append(x)\n",
    "    return len(same_letter)\n",
    "\n",
    "        \n",
    "start_end(['level', 'asdwe', 's', 'abadsfa', 'q1q'])\n",
    "start_end(['asa', '0', 'as', 'bdb'])"
   ]
  },
  {
   "cell_type": "code",
   "execution_count": null,
   "metadata": {},
   "outputs": [],
   "source": [
    "# 선생님 답\n",
    "def start_end(words):\n",
    "    count = 0\n",
    "    for word in words:\n",
    "        if len(word) > 1 and word[0] == word[-1]:\n",
    "            count += 1\n",
    "    return count\n",
    "\n",
    "\n",
    "start_end(['level', 'asdwe', 's', 'abadsfa', 'q1q'])\n",
    "start_end(['asa', '0', 'as', 'bdb'])"
   ]
  },
  {
   "cell_type": "markdown",
   "metadata": {},
   "source": [
    "## 3. Collatz\n",
    "> Collatz 추측: 어떤 자연수든지 다음과 같은 작업을 반복하면 1로 만들 수 있다. \n",
    "1. n이 짝수라면 2로 나눈다. \n",
    "2. n이 홀수라면 3을 곱하고 1을 더한다.\n",
    "3. 결과로 나온 수에 1 / 2의 작업을 1이 될 때까지 반복한다.\n",
    "\n",
    "> n이 6이면, 6 -> 3 -> 5 -> 16 -> 8 -> 4 -> 2 -> 1이 되면 8번만에 1이 된다. 자연수 n이 들어왔을 때, 몇 번의 작업만에 1이 되는지 `return`하는 함수 `collatz()`를 완성하라. (단, 500번을 넘어가도 1이 되지 않는다면 -1을 `return`한다.)\n",
    "\n",
    "> 예시\n",
    "```python\n",
    "collatz(6) # 8\n",
    "collatz(16) # 4\n",
    "collatz(6263313) # -1\n",
    "```"
   ]
  },
  {
   "cell_type": "code",
   "execution_count": null,
   "metadata": {},
   "outputs": [],
   "source": [
    "# def collatz(num):\n",
    "        \n",
    "#         if num % 2 == 1:\n",
    "#             result = num * 3 + 1\n",
    "        \n",
    "#         elif num % 2 == 0:\n",
    "#             result = num / 2\n",
    "        \n",
    "#             if result > 1:\n",
    "#                 collatz(num)\n",
    "            \n",
    "#             elif result == 1:\n",
    "#                 print(1)\n",
    "\n",
    "#         return collatz(result)\n",
    "            \n",
    "# collatz(6)\n",
    "\n",
    "\n",
    "def collatz(num):\n",
    "        count = 0\n",
    "        while num != 1:\n",
    "            if num % 2 == 1:\n",
    "                num = num * 3 + 1\n",
    "                count += 1\n",
    "            elif num % 2 == 0:\n",
    "                num = num / 2\n",
    "                count += 1  \n",
    "        print(count)\n",
    "\n",
    "        if count >= 500:\n",
    "            return -1\n",
    "        else:\n",
    "            return count\n",
    "\n",
    "    \n",
    "collatz(5)\n",
    "collatz(6)\n",
    "collatz(16)\n",
    "collatz(501)\n",
    "collatz(626331)"
   ]
  },
  {
   "cell_type": "code",
   "execution_count": null,
   "metadata": {},
   "outputs": [],
   "source": [
    "# 선생님 답\n",
    "def collatz(num):\n",
    "    for i in range(500):\n",
    "        if num % 2:\n",
    "            num = num * 3 + 1\n",
    "        else:\n",
    "            num = num / 2\n",
    "        \n",
    "        if num == 1:     # 여기 if는 위의 if에 걸림\n",
    "            return i + 1\n",
    " \n",
    "    return i - 1\n",
    "        \n",
    "    \n",
    "collatz(6)"
   ]
  },
  {
   "cell_type": "markdown",
   "metadata": {},
   "source": [
    "## 4. 솔로 천국\n",
    "> 리스트가 주어질 때, 리스트의 요소 e는 range(0, 10)에 포함되는 자연수다. 리스트에서 연속적으로 나타나는 숫자는 하나만 남기고 전부 제거하며, `return`하는 함수 `lonely()`를 작성하라. 이때 제거된 후 남은 수들을 반환할 때는 리스트의 요소들이 순서를 유지해야 한다.\n",
    "\n",
    "> 예시)\n",
    "```python\n",
    "lonely([1, 1, 3, 3, 0, 1, 1, 3, 0, 3])  # [1, 3, 0]\n",
    "lonely([4, 4, 3, 3, 3, 4])  # [4, 3]\n",
    "{'key1': 'value1', 'key2': 'value2'}\n",
    "```"
   ]
  },
  {
   "cell_type": "code",
   "execution_count": null,
   "metadata": {},
   "outputs": [],
   "source": [
    "def lonely(natural_numbers):\n",
    "    result = []\n",
    "    for x in natural_numbers:\n",
    "        if x not in result:\n",
    "            result = result + [x]        \n",
    "    return result\n",
    "\n",
    "lonely([4, 4, 4, 1, 1, 3, 3, 1])\n",
    "\n",
    "\n",
    "\n",
    "def lonely(natural_numbers):\n",
    "    result = []\n",
    "    for x in natural_numbers:\n",
    "        if x not in result:\n",
    "            result.append(x)     \n",
    "    return result\n",
    "\n",
    "\n",
    "lonely([4, 4, 4, 1, 1, 3, 3, 1])"
   ]
  },
  {
   "cell_type": "code",
   "execution_count": 1,
   "metadata": {},
   "outputs": [
    {
     "data": {
      "text/plain": [
       "[4, 1, 3]"
      ]
     },
     "execution_count": 1,
     "metadata": {},
     "output_type": "execute_result"
    }
   ],
   "source": [
    "# 선생님 답\n",
    "def lonely(numbers):\n",
    "    result = []\n",
    "    for number in numbers:\n",
    "        if not result:             # result가 비어 있는가?\n",
    "            result.append(number)\n",
    "        elif result[-1] != number: # result의 마지막 숫자가 리스트와 같은 지, 다른 지 확인하는 작업\n",
    "            if result.count(number) == 0:  # result에 담긴 해당 숫자의 개수가 0이면(없다면), \n",
    "                result.append(number)\n",
    "    return result      \n",
    "        \n",
    "    \n",
    "lonely([4, 4, 4, 1, 1, 3, 3, 1])"
   ]
  },
  {
   "cell_type": "code",
   "execution_count": 3,
   "metadata": {},
   "outputs": [
    {
     "data": {
      "text/plain": [
       "[4, 1, 3]"
      ]
     },
     "execution_count": 3,
     "metadata": {},
     "output_type": "execute_result"
    }
   ],
   "source": [
    "# 선생님 답2\n",
    "def lonely(numbers):\n",
    "    result = []\n",
    "    for number in numbers:\n",
    "        if number not in result:         \n",
    "            result.append(number)\n",
    "    return result   \n",
    "                          \n",
    "\n",
    "lonely([4, 4, 4, 1, 1, 3, 3, 1])                      "
   ]
  },
  {
   "cell_type": "markdown",
   "metadata": {},
   "source": [
    "## 5. 홀수개를 찾아라\n",
    "> 입력으로 list가 한 개 들어온다. 이 list에는 1개의 숫자만 홀수개 들어있다. 이 1개의 홀수개인 숫자를 `return`하는 `find_odd()`를 작성하세요.\n",
    "\n",
    "> 예시)\n",
    "```python\n",
    "find_odd([1, 1, 2, 2, 3, 3, 3])  # 3\n",
    "find_odd([2, 1, 2])  # 1\n",
    "find_odd([1, 2, 2, 3, 2, 2, 1])  # 3\n",
    "find_odd([1, 2, 1])  # 2\n",
    "```"
   ]
  },
  {
   "cell_type": "code",
   "execution_count": null,
   "metadata": {},
   "outputs": [],
   "source": [
    "def find_odd(num):\n",
    "    fin = []\n",
    "    for x in num:\n",
    "        if num.count(x) % 2:\n",
    "            fin.append(x)           \n",
    "    return fin[0]\n",
    "\n",
    "\n",
    "find_odd([1, 2, 1])\n",
    "find_odd([1, 1, 2, 2, 3, 3, 3])\n",
    "find_odd([2, 1, 2])\n",
    "find_odd([1, 2, 2, 3, 2, 2, 1])\n",
    "find_odd([0, 10, 10, 5, 0])"
   ]
  },
  {
   "cell_type": "code",
   "execution_count": null,
   "metadata": {},
   "outputs": [],
   "source": [
    "# 선생님 답\n",
    "def find_odd(num):\n",
    "    result = 0\n",
    "    for n in num:\n",
    "        result = result ^ n\n",
    "    return result\n",
    "\n",
    "\n",
    "find_odd([1, 2, 1])\n",
    "find_odd([1, 1, 2, 2, 3, 3, 3])\n",
    "find_odd([2, 1, 2])\n",
    "find_odd([1, 2, 2, 3, 2, 2, 1])\n",
    "find_odd([0, 10, 10, 5, 0])\n",
    "\n",
    "\n",
    "# ^(carrot)이 비트연산이라고 함(xor과 같은 기능)"
   ]
  },
  {
   "cell_type": "code",
   "execution_count": 25,
   "metadata": {},
   "outputs": [
    {
     "name": "stdout",
     "output_type": "stream",
     "text": [
      "abdca\n",
      "True\n",
      "아자차카타파하\n",
      "True\n"
     ]
    }
   ],
   "source": [
    "def palindrome(word):\n",
    "    \n",
    "    compare = []\n",
    "    rev_compare = []\n",
    "    \n",
    "    \" \".join(word)\n",
    "    word.split(\" \")\n",
    "    \n",
    "    if len(word) % 2:\n",
    "        for x in word:\n",
    "            compare.append(x) \n",
    "            rev_compare.append(x)\n",
    "            rev_compare.reverse()\n",
    "            if compare == rev_compare:\n",
    "                return True\n",
    "            \n",
    "    else:\n",
    "        return False\n",
    "    \n",
    "print(palindrome('abdca'))\n",
    "print(palindrome('아자차카타파하'))"
   ]
  },
  {
   "cell_type": "code",
   "execution_count": 4,
   "metadata": {},
   "outputs": [
    {
     "ename": "AttributeError",
     "evalue": "'str' object has no attribute 'reverse'",
     "output_type": "error",
     "traceback": [
      "\u001b[1;31m---------------------------------------------------------------------------\u001b[0m",
      "\u001b[1;31mAttributeError\u001b[0m                            Traceback (most recent call last)",
      "\u001b[1;32m<ipython-input-4-4793f8ff7350>\u001b[0m in \u001b[0;36m<module>\u001b[1;34m\u001b[0m\n\u001b[0;32m      1\u001b[0m \u001b[0mword\u001b[0m \u001b[1;33m=\u001b[0m \u001b[1;34m'abcda'\u001b[0m\u001b[1;33m\u001b[0m\u001b[1;33m\u001b[0m\u001b[0m\n\u001b[0;32m      2\u001b[0m \u001b[1;33m\u001b[0m\u001b[0m\n\u001b[1;32m----> 3\u001b[1;33m \u001b[0mword\u001b[0m\u001b[1;33m.\u001b[0m\u001b[0mreverse\u001b[0m\u001b[1;33m(\u001b[0m\u001b[1;33m)\u001b[0m\u001b[1;33m\u001b[0m\u001b[1;33m\u001b[0m\u001b[0m\n\u001b[0m",
      "\u001b[1;31mAttributeError\u001b[0m: 'str' object has no attribute 'reverse'"
     ]
    }
   ],
   "source": [
    "word = 'abcda'\n",
    "\n",
    "word.reverse()"
   ]
  }
 ],
 "metadata": {
  "kernelspec": {
   "display_name": "Python 3",
   "language": "python",
   "name": "python3"
  },
  "language_info": {
   "codemirror_mode": {
    "name": "ipython",
    "version": 3
   },
   "file_extension": ".py",
   "mimetype": "text/x-python",
   "name": "python",
   "nbconvert_exporter": "python",
   "pygments_lexer": "ipython3",
   "version": "3.6.7"
  }
 },
 "nbformat": 4,
 "nbformat_minor": 2
}

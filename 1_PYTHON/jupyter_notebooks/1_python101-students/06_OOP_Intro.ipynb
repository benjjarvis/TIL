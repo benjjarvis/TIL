{
 "cells": [
  {
   "cell_type": "markdown",
   "metadata": {},
   "source": [
    "# 시작하기전에\n",
    "\n",
    "<wikipedia - 객체지향 프로그래밍> \n",
    ">\n",
    "> 객체 지향 프로그래밍(영어: Object-Oriented Programming, OOP)은 컴퓨터 프로그래밍의 패러다임의 하나이다. 객체 지향 프로그래밍은 컴퓨터 프로그램을 명령어의 목록으로 보는 시각에서 벗어나 여러 개의 독립된 단위, 즉 \"객체\"들의 모임으로 파악하고자 하는 것이다. 각각의 객체는 메시지를 주고받고, 데이터를 처리할 수 있다.\n",
    ">\n",
    "> 명령형 프로그래밍인 절차지향 프로그래밍에서 발전된 형태를 나타내며, 기본 구성요소는 다음과 같다.\n",
    "\n",
    "\n",
    "* 클래스(Class) - 같은 종류(또는 문제 해결을 위한)의 집단에 속하는 속성(attribute)과 행위(behavior)를 정의한 것으로 객체지향 프로그램의 기본적인 사용자 정의 데이터형(user define data type)이라고 할 수 있다. 클래스는 프로그래머가 아니지만 해결해야 할 문제가 속하는 영역에 종사하는 사람이라면 사용할 수 있고, 다른 클래스 또는 외부 요소와 독립적으로 디자인하여야 한다.\n",
    "\n",
    "\n",
    "* 인스턴스 - 클래스의 인스턴스(실제로 메모리상에 할당된 것)이다. 객체는 자신 고유의 속성(attribute)을 가지며 클래스에서 정의한 행위(behavior)를 수행할 수 있다. 객체의 행위는 클래스에 정의된 행위에 대한 정의를 공유함으로써 메모리를 경제적으로 사용한다.\n",
    "\n",
    "\n",
    "* 메서드(Method) - 클래스로부터 생성된 객체를 사용하는 방법으로서 객체에 명령을 내리는 것이라 할 수 있다. 메서드는 한 객체(=주어)의 속성을 조작하는 데 사용된다."
   ]
  },
  {
   "cell_type": "code",
   "execution_count": 1,
   "metadata": {},
   "outputs": [
    {
     "name": "stdout",
     "output_type": "stream",
     "text": [
      "(-7+24j)\n",
      "<class 'complex'>\n"
     ]
    }
   ],
   "source": [
    "# 복소수를 하나 만들어보고, 타입을 출력해봅시다.\n",
    "# 복소수 = 허수, 제곱했을 때 음의 정수가 나오는 상상 속의 숫자\n",
    "img_number = 3 + 4j\n",
    "print(img_number ** 2)\n",
    "\n",
    "# 복소수의 class = complex\n",
    "print(type(img_number))"
   ]
  },
  {
   "cell_type": "code",
   "execution_count": 2,
   "metadata": {},
   "outputs": [
    {
     "name": "stdout",
     "output_type": "stream",
     "text": [
      "3.0\n",
      "4.0\n"
     ]
    }
   ],
   "source": [
    "# 허수부랑 실수부를 함께 출력해봅시다.\n",
    "# .real, .imag는 ()가 없으니까 우선 함수는 아님.\n",
    "print(img_number.real)\n",
    "print(img_number.imag)"
   ]
  },
  {
   "cell_type": "code",
   "execution_count": 3,
   "metadata": {},
   "outputs": [
    {
     "name": "stdout",
     "output_type": "stream",
     "text": [
      "[1, 2, 3]\n"
     ]
    }
   ],
   "source": [
    "# 리스트를 하나 만들고 정렬해봅시다.\n",
    "a = [3, 2, 1]\n",
    "a.sort()\n",
    "print(a)"
   ]
  },
  {
   "cell_type": "code",
   "execution_count": 4,
   "metadata": {},
   "outputs": [
    {
     "name": "stdout",
     "output_type": "stream",
     "text": [
      "['__add__', '__class__', '__contains__', '__delattr__', '__delitem__', '__dir__', '__doc__', '__eq__', '__format__', '__ge__', '__getattribute__', '__getitem__', '__gt__', '__hash__', '__iadd__', '__imul__', '__init__', '__init_subclass__', '__iter__', '__le__', '__len__', '__lt__', '__mul__', '__ne__', '__new__', '__reduce__', '__reduce_ex__', '__repr__', '__reversed__', '__rmul__', '__setattr__', '__setitem__', '__sizeof__', '__str__', '__subclasshook__', 'append', 'clear', 'copy', 'count', 'extend', 'index', 'insert', 'pop', 'remove', 'reverse', 'sort']\n"
     ]
    }
   ],
   "source": [
    "# List class의 object가 할 수 있는 것들을 알아봅시다.\n",
    "print(dir(list))"
   ]
  },
  {
   "cell_type": "markdown",
   "metadata": {},
   "source": [
    "## 실습 문제\n",
    "\n",
    "> 프로그래밍으로 나와 친구의 이름을 저장해보세요.\n",
    ">\n",
    "\n",
    "**각자의 명함과 지갑을 만들어봅시다.**\n",
    "\n",
    "* 내 생일, 전화번호, 이메일주소 정보를 담은 변수를 확인해봅시다.\n",
    "\n",
    "* 주머니(pocket)에는 돈(won)을 포함하여 현재 가지고 있는 것을 작성해보세요.\n",
    "\n",
    "* 나는 인사를 하면서 내 명함에 있는 정보 하나를 이야기합니다. `greeting` 함수를 만듭시다.\n",
    "\n",
    "* 나는 주머니에 원하는 것과 갯수를 지정하여 넣을 수 있습니다. \n",
    "\n",
    "  기존에 값이 있으면, 갯수를 추가하고 없으면 새로 만드는 `in_my_pocket` 함수를 만듭시다.\n",
    "  \n",
    "**친구의 정보와 지갑도 만들어봅시다.**"
   ]
  },
  {
   "cell_type": "code",
   "execution_count": 5,
   "metadata": {},
   "outputs": [],
   "source": [
    "# 아래에 자유롭게 코드를 작성해보세요."
   ]
  },
  {
   "cell_type": "code",
   "execution_count": 6,
   "metadata": {},
   "outputs": [
    {
     "data": {
      "text/plain": [
       "{'money': 100000, 'card': 8, 'human': 1}"
      ]
     },
     "execution_count": 6,
     "metadata": {},
     "output_type": "execute_result"
    }
   ],
   "source": [
    "# in_my_pocket 함수를 통해 내 주머니에 내용을 추가해봅시다.\n",
    "\n",
    "my_pocket = {\n",
    "    'money': 50000,\n",
    "    'card': 8\n",
    "}\n",
    "\n",
    "def in_my_pocket(my_pocket, stuffs, count):\n",
    "    if my_pocket.get(stuffs):\n",
    "          my_pocket[stuffs] += count\n",
    "    else:\n",
    "          my_pocket[stuffs] = count\n",
    "    return my_pocket\n",
    "\n",
    "in_my_pocket(my_pocket, 'money', 50000)\n",
    "in_my_pocket(my_pocket, 'human', 1)"
   ]
  },
  {
   "cell_type": "code",
   "execution_count": 7,
   "metadata": {},
   "outputs": [
    {
     "name": "stdout",
     "output_type": "stream",
     "text": [
      "Hi!\n",
      "my_name is 박찬미\n",
      "my_number is 010-5295-3958\n",
      "my_email is kwings@naver.com\n"
     ]
    }
   ],
   "source": [
    "# greeting 함수를 통해 인사를 해봅시다.\n",
    "#=> 안녕, kim이야. 01012345678\n",
    "\n",
    "my_info = {\n",
    "    'my_name': '박찬미',\n",
    "    'my_number': '010-5295-3958',\n",
    "    'my_email': 'kwings@naver.com'\n",
    "}\n",
    "\n",
    "def greeting(my_info):\n",
    "    print('Hi!')\n",
    "    for x in my_info:\n",
    "        print(x, 'is', my_info[x])\n",
    "\n",
    "greeting(my_info)"
   ]
  },
  {
   "cell_type": "code",
   "execution_count": 8,
   "metadata": {},
   "outputs": [
    {
     "name": "stdout",
     "output_type": "stream",
     "text": [
      "Hi!\n",
      "my_name is 박찬미\n",
      "my_number is 010-5295-3958\n",
      "my_email is kwings@naver.com\n"
     ]
    }
   ],
   "source": [
    "group_info_1 = {\n",
    "    '이름': '지상현',\n",
    "    '생년월일': '950912',\n",
    "    '번호': '01050242683',\n",
    "    '혈액형': 'O'\n",
    "}\n",
    "\n",
    "group_info_2 = {\n",
    "    '이름': '박찬미',\n",
    "    '생년월일': '910604',\n",
    "    '번호': '01052953958',\n",
    "    '혈액형': 'A'\n",
    "}\n",
    "\n",
    "group_info_3 = {\n",
    "    '이름': '조성규',\n",
    "    '생년월일': '920527',\n",
    "    '번호': '01098559017',\n",
    "    '혈액형': 'AB'\n",
    "}\n",
    "\n",
    "\n",
    "def greeting(my_info):\n",
    "    print('Hi!')\n",
    "    for x in my_info:\n",
    "        print(x, 'is', my_info[x])\n",
    "\n",
    "greeting(my_info)"
   ]
  },
  {
   "cell_type": "code",
   "execution_count": 9,
   "metadata": {},
   "outputs": [
    {
     "ename": "TypeError",
     "evalue": "string indices must be integers",
     "output_type": "error",
     "traceback": [
      "\u001b[1;31m---------------------------------------------------------------------------\u001b[0m",
      "\u001b[1;31mTypeError\u001b[0m                                 Traceback (most recent call last)",
      "\u001b[1;32m<ipython-input-9-0a6829934c8d>\u001b[0m in \u001b[0;36m<module>\u001b[1;34m\u001b[0m\n\u001b[0;32m      5\u001b[0m         \u001b[0mprint\u001b[0m\u001b[1;33m(\u001b[0m\u001b[1;34m'노트북을 들고 혼코존으로 간다'\u001b[0m\u001b[1;33m)\u001b[0m\u001b[1;33m\u001b[0m\u001b[1;33m\u001b[0m\u001b[0m\n\u001b[0;32m      6\u001b[0m \u001b[1;33m\u001b[0m\u001b[0m\n\u001b[1;32m----> 7\u001b[1;33m \u001b[0mupon_arrival\u001b[0m\u001b[1;33m(\u001b[0m\u001b[1;34m'박찬미'\u001b[0m\u001b[1;33m)\u001b[0m\u001b[1;33m\u001b[0m\u001b[1;33m\u001b[0m\u001b[0m\n\u001b[0m",
      "\u001b[1;32m<ipython-input-9-0a6829934c8d>\u001b[0m in \u001b[0;36mupon_arrival\u001b[1;34m(mate)\u001b[0m\n\u001b[0;32m      1\u001b[0m \u001b[1;32mdef\u001b[0m \u001b[0mupon_arrival\u001b[0m\u001b[1;33m(\u001b[0m\u001b[0mmate\u001b[0m\u001b[1;33m)\u001b[0m\u001b[1;33m:\u001b[0m\u001b[1;33m\u001b[0m\u001b[1;33m\u001b[0m\u001b[0m\n\u001b[1;32m----> 2\u001b[1;33m     \u001b[1;32mif\u001b[0m \u001b[0mmate\u001b[0m\u001b[1;33m[\u001b[0m\u001b[1;34m'name'\u001b[0m\u001b[1;33m]\u001b[0m \u001b[1;33m==\u001b[0m \u001b[1;34m'박찬미'\u001b[0m\u001b[1;33m:\u001b[0m\u001b[1;33m\u001b[0m\u001b[1;33m\u001b[0m\u001b[0m\n\u001b[0m\u001b[0;32m      3\u001b[0m         \u001b[0mprint\u001b[0m\u001b[1;33m(\u001b[0m\u001b[1;34m'물을 마신다'\u001b[0m\u001b[1;33m)\u001b[0m\u001b[1;33m\u001b[0m\u001b[1;33m\u001b[0m\u001b[0m\n\u001b[0;32m      4\u001b[0m         \u001b[0mprint\u001b[0m\u001b[1;33m(\u001b[0m\u001b[1;34m'출첵을 한다'\u001b[0m\u001b[1;33m)\u001b[0m\u001b[1;33m\u001b[0m\u001b[1;33m\u001b[0m\u001b[0m\n\u001b[0;32m      5\u001b[0m         \u001b[0mprint\u001b[0m\u001b[1;33m(\u001b[0m\u001b[1;34m'노트북을 들고 혼코존으로 간다'\u001b[0m\u001b[1;33m)\u001b[0m\u001b[1;33m\u001b[0m\u001b[1;33m\u001b[0m\u001b[0m\n",
      "\u001b[1;31mTypeError\u001b[0m: string indices must be integers"
     ]
    }
   ],
   "source": [
    "def upon_arrival(mate):\n",
    "    if mate['name'] == '박찬미':\n",
    "        print('물을 마신다')\n",
    "        print('출첵을 한다')\n",
    "        print('노트북을 들고 혼코존으로 간다')\n",
    "        \n",
    "upon_arrival('박찬미')"
   ]
  },
  {
   "cell_type": "code",
   "execution_count": null,
   "metadata": {},
   "outputs": [],
   "source": [
    "mates = {\n",
    "    'jiss':{\n",
    "     'name': '지상현',\n",
    "     'birth': '950912',\n",
    "     'phone': '010-5024-2683',\n",
    "     'blood_type': 'O형',\n",
    "     'bedtime': '교정 장치를 뺀다'\n",
    "    },\n",
    "    'chan':{\n",
    "     'name': '박찬미',\n",
    "     'birth': '910604',\n",
    "     'phone': '010-5295-3958',\n",
    "     'blood_type': 'A형',\n",
    "     'bedtime': '미드를 본다'\n",
    "    },\n",
    "    'raccoon':{\n",
    "     'name': '조성규',\n",
    "     'birth': '920527',\n",
    "     'phone': '010-9866-9017',\n",
    "     'blood_type': 'AB형',\n",
    "     'bedtime': '유산균을 먹는다'\n",
    "      }\n",
    "}"
   ]
  },
  {
   "cell_type": "code",
   "execution_count": null,
   "metadata": {},
   "outputs": [],
   "source": [
    "class Mate: \n",
    "    classroom = 703\n",
    "    ban = 3\n",
    "    human = True\n",
    "    \n",
    "    def __init__(self, name, birth, number, blood, bedtime):\n",
    "        self.name = name\n",
    "        self.birth = birth\n",
    "        self.blood = blood\n",
    "        self.number = number\n",
    "        self.bedtime = bedtime\n",
    "            \n",
    "    def get_info(self):\n",
    "        print(self.name, self.birth, self.blood, self.number)\n",
    "        \n",
    "    def get_bedtime(self):\n",
    "        print(f'{self.name}(은)는 자기 전에 {self.bedtime}니다.')\n",
    "        \n",
    "\n",
    "edward = Mate('Edward', '911231', '010-0000-0000', 'RH- B형', '피를 마십')\n",
    "edward.get_info()\n",
    "edward.get_bedtime()\n",
    "print(edward.ban, edward.classroom, edward.human)\n",
    "\n",
    "print()\n",
    "\n",
    "park = Mate('박찬미', '910604', '010-5295-3958', 'A형', '미드를 봅')\n",
    "park.get_info()\n",
    "park.get_bedtime()\n",
    "\n",
    "print()\n",
    "\n",
    "jiss = Mate('지상현', '950912', '010-5024-2683', 'O형', '교정장치를 뺍')\n",
    "jiss.get_info()\n",
    "jiss.get_bedtime()\n",
    "\n",
    "print()\n",
    "\n",
    "cho = Mate('조성규', '920527', '010-9855-9017', 'AB형', '유산균을 먹습')\n",
    "cho.get_info()\n",
    "cho.get_bedtime()"
   ]
  },
  {
   "cell_type": "code",
   "execution_count": null,
   "metadata": {},
   "outputs": [],
   "source": [
    "class Text:\n",
    "    def __init__(self, content):\n",
    "        self.content = content\n",
    "        \n",
    "    def is_palindrome(self):  # self는 무조건 들어가야 한다고.\n",
    "        txt = self.content.replace(' ', '').lower()\n",
    "        return txt == ''.join(reversed(txt))\n",
    "    \n",
    "    def start_hangman(self):\n",
    "        guess = input('한 글자만 넣으세요')\n",
    "        if guess in self.content:\n",
    "            print('오 하나 맞췄네?')\n",
    "            return True\n",
    "        else:\n",
    "            print('ㅋㅋㅋㅋㅋㅋㅋ')\n",
    "            return False\n",
    "            \n",
    "my_text = Text('A santa at NASA')  # my_list = [1, 2, 3]과 같은 맥락\n",
    "print(my_text.is_palindrome())  # True\n",
    "\n",
    "ur_text = Text('apple')\n",
    "print(ur_text.start_hangman())\n",
    "print(Text('apple').start_hangman())"
   ]
  },
  {
   "cell_type": "markdown",
   "metadata": {},
   "source": [
    "# 클래스 및 인스턴스"
   ]
  },
  {
   "cell_type": "markdown",
   "metadata": {},
   "source": [
    "## 클래스 객체\n",
    "\n",
    "```python\n",
    "class ClassName:\n",
    "    \n",
    "```\n",
    "\n",
    "* 선언과 동시에 클래스 객체가 생성됨.\n",
    "\n",
    "* 또한, 선언된 공간은 지역 스코프로 사용된다.\n",
    "\n",
    "* 정의된 어트리뷰트 중 변수는 멤버 변수로 불리운다.\n",
    "\n",
    "* 정의된 함수(`def`)는 메서드로 불리운다."
   ]
  },
  {
   "cell_type": "code",
   "execution_count": null,
   "metadata": {},
   "outputs": [],
   "source": [
    "# Class를 만들어봅시다.\n",
    "# Class 설정시 upper camel case가 convention\n",
    "class TestClass:\n",
    "    '''This is Test Class'''\n",
    "    \n",
    "print(type(TestClass))\n",
    "\n",
    "# ....? WT.....\n",
    "\n",
    "\n",
    "tc = TestClass()\n",
    "print(type(tc))\n",
    "print(tc.__doc__)"
   ]
  },
  {
   "cell_type": "code",
   "execution_count": 11,
   "metadata": {},
   "outputs": [
    {
     "name": "stdout",
     "output_type": "stream",
     "text": [
      "hello\n"
     ]
    }
   ],
   "source": [
    "# Person 클래스를 만들어봅시다.\n",
    "class Person:\n",
    "    name = '홍길동'\n",
    "    \n",
    "    def say_hi(self):\n",
    "        print('hello')\n",
    "    \n",
    "    def intro(self):\n",
    "        print(f'ma name is {self.name}')\n",
    "    \n",
    "JacobAnderson = Person()\n",
    "JacobAnderson.say_hi()"
   ]
  },
  {
   "cell_type": "markdown",
   "metadata": {},
   "source": [
    "* 선언시 self는 반드시 작성해주세요! 나중에 설명드립니다."
   ]
  },
  {
   "cell_type": "markdown",
   "metadata": {},
   "source": [
    "## 인스턴스 객체\n",
    "\n",
    "* 인스턴스 객체는 `ClassName()`을 호출함으로써 선언된다.\n",
    "\n",
    "* 인스턴스 객체와 클래스 객체는 서로 다른 이름 공간을 가지고 있다.\n",
    "\n",
    "* 인스턴스 -> 클래스 -> 전역 순으로 탐색을 한다."
   ]
  },
  {
   "cell_type": "code",
   "execution_count": null,
   "metadata": {},
   "outputs": [],
   "source": [
    "# 클래스 Person의 인스턴스 'Raleigh Ritchie'를 만들어봅시다. \n",
    "RaleighRitchie = Person()"
   ]
  },
  {
   "cell_type": "code",
   "execution_count": null,
   "metadata": {},
   "outputs": [],
   "source": [
    "# 인사하는 메서드를 호출해봅시다.\n",
    "JacobAnderson.say_hi()"
   ]
  },
  {
   "cell_type": "code",
   "execution_count": null,
   "metadata": {},
   "outputs": [],
   "source": [
    "# iu의 이름을 확인해봅시다.\n",
    "JacobAnderson.name"
   ]
  },
  {
   "cell_type": "code",
   "execution_count": null,
   "metadata": {},
   "outputs": [],
   "source": [
    "# iu로 이름을 바꿔주세요.\n",
    "JacobAnderson.name = 'IU'\n",
    "print(JacobAnderson.name)"
   ]
  },
  {
   "cell_type": "code",
   "execution_count": 12,
   "metadata": {},
   "outputs": [
    {
     "name": "stdout",
     "output_type": "stream",
     "text": [
      "ma name is 홍길동\n"
     ]
    }
   ],
   "source": [
    "# iu가 인사를 합니다.\n",
    "JacobAnderson.intro()"
   ]
  },
  {
   "cell_type": "code",
   "execution_count": 19,
   "metadata": {},
   "outputs": [
    {
     "data": {
      "text/plain": [
       "True"
      ]
     },
     "execution_count": 19,
     "metadata": {},
     "output_type": "execute_result"
    }
   ],
   "source": [
    "# iu와 Person이 같은지 확인해보겠습니다.\n",
    "isinstance(JacobAnderson, Person)\n",
    "\n",
    "isinstance(1, str)\n",
    "isinstance([], list)\n",
    "\n",
    "# if isinstance(user_input, list):"
   ]
  },
  {
   "cell_type": "code",
   "execution_count": 22,
   "metadata": {},
   "outputs": [
    {
     "data": {
      "text/plain": [
       "True"
      ]
     },
     "execution_count": 22,
     "metadata": {},
     "output_type": "execute_result"
    }
   ],
   "source": [
    "# iu와 Person이 같은지 확인해보겠습니다.\n",
    "type(JacobAnderson) == Person"
   ]
  },
  {
   "cell_type": "code",
   "execution_count": 25,
   "metadata": {},
   "outputs": [
    {
     "name": "stdout",
     "output_type": "stream",
     "text": [
      "<__main__.Person object at 0x000001DB75E0CA20>\n"
     ]
    }
   ],
   "source": [
    "# iu를 출력해봅시다.\n",
    "print(JacobAnderson)"
   ]
  },
  {
   "cell_type": "code",
   "execution_count": 26,
   "metadata": {},
   "outputs": [
    {
     "data": {
      "text/plain": [
       "<__main__.Person at 0x1db75e0ca20>"
      ]
     },
     "execution_count": 26,
     "metadata": {},
     "output_type": "execute_result"
    }
   ],
   "source": [
    "# iu를 출력해봅시다 2.\n",
    "JacobAnderson"
   ]
  },
  {
   "cell_type": "code",
   "execution_count": 27,
   "metadata": {},
   "outputs": [
    {
     "data": {
      "text/plain": [
       "__main__.Person"
      ]
     },
     "execution_count": 27,
     "metadata": {},
     "output_type": "execute_result"
    }
   ],
   "source": [
    "# type을 확인해봅시다.\n",
    "type(JacobAnderson)"
   ]
  },
  {
   "cell_type": "markdown",
   "metadata": {},
   "source": [
    "* 파이썬 출력의 비밀 : repr, str"
   ]
  },
  {
   "cell_type": "code",
   "execution_count": 28,
   "metadata": {},
   "outputs": [],
   "source": [
    "# 강다니엘을 만들어봅시다.\n",
    "강다니엘 = Person()"
   ]
  },
  {
   "cell_type": "code",
   "execution_count": 31,
   "metadata": {},
   "outputs": [
    {
     "name": "stdout",
     "output_type": "stream",
     "text": [
      "<__main__.Person object at 0x000001DB75E112E8> 홍길동\n",
      "Daniel\n"
     ]
    }
   ],
   "source": [
    "# 강다니엘을 출력해봅시다.\n",
    "print(강다니엘, 강다니엘.name)\n",
    "강다니엘.name = 'Daniel'\n",
    "print(강다니엘.name)"
   ]
  },
  {
   "cell_type": "markdown",
   "metadata": {},
   "source": [
    "## 실습 문제 발전\n",
    "\n",
    "> 지금까지 배운 것을 통해서 Person 클래스를 만들고, 친구와 나를 표현해봅시다.\n",
    ">\n",
    "> 주머니와 정보를 가지고 있고 (멤버 변수)\n",
    "> \n",
    "> 인사(`greeting()`)와 주머니에 내용을 추가(`in_my_pocket()`)할 수 있습니다. (메서드)\n",
    ">\n",
    "> 추가적으로 `get_my_pocket()`으로 지갑에 담긴 정보를 가져와 봅시다.\n",
    ">\n",
    "> 그리고 사람을 출력하면, 지갑을 제외한 정보를 보여줘보세요. "
   ]
  },
  {
   "cell_type": "code",
   "execution_count": null,
   "metadata": {},
   "outputs": [],
   "source": [
    "# 아래에 코드를 작성해주세요.    "
   ]
  },
  {
   "cell_type": "markdown",
   "metadata": {},
   "source": [
    "## MyList만들기\n",
    "\n",
    "> 이제 배운 것을 활용하여 나만의 리스트 객체를 만들 수 있습니다. \n",
    ">\n",
    "> `class MyList:`\n",
    ">\n",
    "\n",
    "```\n",
    "* 변수\n",
    "data : 비어 있는 리스트\n",
    "\n",
    "* 메서드 \n",
    "append : 값을 받아 추가합니다.\n",
    "pop : 마지막에 있는 값을 없애고, 해당 값을 리턴합니다.\n",
    "reverse : 제자리에서 뒤집고 리턴 값은 없습니다.\n",
    "count(x) : x의 갯수를 반환합니다.\n",
    "clear : 값을 모두 삭제합니다.\n",
    "\n",
    "__repr__ : ex) '리스트 내용 1, 2, 3'\n",
    "```"
   ]
  },
  {
   "cell_type": "code",
   "execution_count": null,
   "metadata": {},
   "outputs": [],
   "source": [
    "# 아래에 코드를 작성해주세요."
   ]
  },
  {
   "cell_type": "markdown",
   "metadata": {},
   "source": [
    "## 자유롭게 만들어보기\n",
    "\n",
    "> 이 세상에 있는 무엇인가를 자유롭게 표현해주세요."
   ]
  },
  {
   "cell_type": "code",
   "execution_count": 37,
   "metadata": {},
   "outputs": [
    {
     "name": "stdout",
     "output_type": "stream",
     "text": [
      "80\n"
     ]
    }
   ],
   "source": [
    "# # 아래에 코드를 작성해주세요.\n",
    "# class Pokemon:\n",
    "#     def __init__(self, name, level): # init = initialize / # 해당 class에 있는 객체 = self(직접 지칭?)\n",
    "#         self.name = name\n",
    "#         self.level = level\n",
    "#         self.hp = level * 10\n",
    "        \n",
    "#     def set_hp(self, point):\n",
    "#         self.hp += point\n",
    "        \n",
    "#     def check_status(self):\n",
    "#         if self.hp < 0:\n",
    "#             return 'Your Pokemon has just died.'\n",
    "#         else:\n",
    "#             return True\n",
    "        \n",
    "#     def body_attack(self, enemy):\n",
    "#         enemy.set_hp(-10)\n",
    "#         print(b.hp)\n",
    "        \n",
    "#     def volt_attack(self, enemy):\n",
    "#         enemy.set_hp(-15)\n",
    "    \n",
    "        \n",
    "# a = Pokemon('피카츄', 10)\n",
    "# b = Pokemon('파이리', 9)\n",
    "\n",
    "# if a.check_status():\n",
    "#     a.body_attack(b)\n",
    "    \n",
    "# else:\n",
    "#     print(f'{b.name} has won!')\n",
    "    \n",
    "\n",
    "# import random\n",
    "# while a.check_status and b.check_status:\n",
    "    "
   ]
  }
 ],
 "metadata": {
  "kernelspec": {
   "display_name": "Python 3",
   "language": "python",
   "name": "python3"
  },
  "language_info": {
   "codemirror_mode": {
    "name": "ipython",
    "version": 3
   },
   "file_extension": ".py",
   "mimetype": "text/x-python",
   "name": "python",
   "nbconvert_exporter": "python",
   "pygments_lexer": "ipython3",
   "version": "3.6.7"
  },
  "latex_envs": {
   "LaTeX_envs_menu_present": true,
   "autoclose": false,
   "autocomplete": true,
   "bibliofile": "biblio.bib",
   "cite_by": "apalike",
   "current_citInitial": 1,
   "eqLabelWithNumbers": true,
   "eqNumInitial": 1,
   "hotkeys": {
    "equation": "Ctrl-E",
    "itemize": "Ctrl-I"
   },
   "labels_anchors": false,
   "latex_user_defs": false,
   "report_style_numbering": false,
   "user_envs_cfg": false
  },
  "toc": {
   "base_numbering": 1,
   "nav_menu": {},
   "number_sections": true,
   "sideBar": true,
   "skip_h1_title": false,
   "title_cell": "Table of Contents",
   "title_sidebar": "Contents",
   "toc_cell": false,
   "toc_position": {},
   "toc_section_display": true,
   "toc_window_display": false
  }
 },
 "nbformat": 4,
 "nbformat_minor": 2
}
